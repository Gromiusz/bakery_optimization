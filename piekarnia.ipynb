{
 "cells": [
  {
   "cell_type": "code",
   "execution_count": 1,
   "metadata": {
    "colab": {
     "base_uri": "https://localhost:8080/"
    },
    "id": "lKh8osQgo3M2",
    "outputId": "4998ea87-92fd-402a-cb9f-dea7ac3a6b12"
   },
   "outputs": [
    {
     "name": "stdout",
     "output_type": "stream",
     "text": [
      "Collecting pulp\n",
      "  Downloading PuLP-2.9.0-py3-none-any.whl.metadata (5.4 kB)\n",
      "Downloading PuLP-2.9.0-py3-none-any.whl (17.7 MB)\n",
      "\u001b[2K   \u001b[90m━━━━━━━━━━━━━━━━━━━━━━━━━━━━━━━━━━━━━━━━\u001b[0m \u001b[32m17.7/17.7 MB\u001b[0m \u001b[31m1.3 MB/s\u001b[0m eta \u001b[36m0:00:00\u001b[0m00:01\u001b[0m00:01\u001b[0m\n",
      "\u001b[?25hInstalling collected packages: pulp\n",
      "Successfully installed pulp-2.9.0\n"
     ]
    }
   ],
   "source": [
    "!pip install pulp"
   ]
  },
  {
   "cell_type": "code",
   "execution_count": null,
   "metadata": {
    "id": "pk860FUiRBEb"
   },
   "outputs": [
    {
     "name": "stdout",
     "output_type": "stream",
     "text": [
      "Generated Price Scenarios:\n",
      "==============================================================================\n"
     ]
    },
    {
     "ename": "KeyError",
     "evalue": "'Chleb_domowy_0_9kg'",
     "output_type": "error",
     "traceback": [
      "\u001b[0;31m---------------------------------------------------------------------------\u001b[0m",
      "\u001b[0;31mKeyError\u001b[0m                                  Traceback (most recent call last)",
      "Cell \u001b[0;32mIn[2], line 91\u001b[0m\n\u001b[1;32m     89\u001b[0m \u001b[38;5;28;01mfor\u001b[39;00m product \u001b[38;5;129;01min\u001b[39;00m products:\n\u001b[1;32m     90\u001b[0m     \u001b[38;5;28;01mfor\u001b[39;00m day \u001b[38;5;129;01min\u001b[39;00m days:\n\u001b[0;32m---> 91\u001b[0m         model \u001b[38;5;241m+\u001b[39m\u001b[38;5;241m=\u001b[39m sales_vars[product, day] \u001b[38;5;241m<\u001b[39m\u001b[38;5;241m=\u001b[39m market_limits[product][day], \u001b[38;5;124mf\u001b[39m\u001b[38;5;124m\"\u001b[39m\u001b[38;5;124mMax_sales_\u001b[39m\u001b[38;5;132;01m{\u001b[39;00mproduct\u001b[38;5;132;01m}\u001b[39;00m\u001b[38;5;124m_\u001b[39m\u001b[38;5;132;01m{\u001b[39;00mday\u001b[38;5;132;01m}\u001b[39;00m\u001b[38;5;124m\"\u001b[39m\n\u001b[1;32m     92\u001b[0m         model \u001b[38;5;241m+\u001b[39m\u001b[38;5;241m=\u001b[39m sales_vars[product, day] \u001b[38;5;241m<\u001b[39m\u001b[38;5;241m=\u001b[39m production_vars[product, day] \u001b[38;5;241m+\u001b[39m (storage_vars[product, days[days\u001b[38;5;241m.\u001b[39mindex(day) \u001b[38;5;241m-\u001b[39m \u001b[38;5;241m1\u001b[39m]] \u001b[38;5;28;01mif\u001b[39;00m day \u001b[38;5;241m!=\u001b[39m \u001b[38;5;124m'\u001b[39m\u001b[38;5;124mJan\u001b[39m\u001b[38;5;124m'\u001b[39m \u001b[38;5;28;01melse\u001b[39;00m initial_stock)\n\u001b[1;32m     95\u001b[0m \u001b[38;5;66;03m# Objective function: Maximize profit from sales minus storage costs\u001b[39;00m\n",
      "\u001b[0;31mKeyError\u001b[0m: 'Chleb_domowy_0_9kg'"
     ]
    }
   ],
   "source": [
    "# Zadanie 1\n",
    "\n",
    "import pulp as pl\n",
    "import numpy as np\n",
    "from scipy.stats import multivariate_t\n",
    "\n",
    "\n",
    "# Print generated scenarios\n",
    "print(\"Generated Price Scenarios:\")\n",
    "# print(scenarios)\n",
    "\n",
    "print(\"==============================================================================\")\n",
    "\n",
    "# Define the problem\n",
    "model = pl.LpProblem(\"Maximize_Profit\", pl.LpMaximize)\n",
    "\n",
    "# Products and days\n",
    "products = ['Chleb_domowy_0_5kg', 'Chleb_domowy_0_9kg', 'Chleb_na_zakwasie', 'Bulki', 'Bagietki', 'Rogaliki_z_czekolada']\n",
    "days = ['Pon', 'Wt', 'Sr', 'Czw', 'Pt', 'Sob']\n",
    "\n",
    "# Income from product sales in PLN/piece\n",
    "product_income = {'Chleb_domowy_0_5kg': 5.2, 'Chleb_domowy_0_9kg': 7.9, 'Chleb_na_zakwasie': 6.2, 'Bulki': 1.4, 'Bagietki': 1.55, 'Rogaliki_z_czekolada': 2.1}\n",
    "\n",
    "# Time available per month (in hours)\n",
    "# days_per_day = 24\n",
    "shifts_per_day = 2\n",
    "hours_per_shift = 8\n",
    "hours_per_day = shifts_per_day * hours_per_shift\n",
    "\n",
    "# Initial stock and storage cost\n",
    "initial_stock = 2\n",
    "storage_cost_per_unit_per_day = 1\n",
    "storage_capacity = 100\n",
    "end_stock = 0\n",
    "\n",
    "# Production times required per product in hours\n",
    "production_times = {\n",
    "    'Chleb_domowy_0_5kg': {'Dzieza': 4.7, 'Wazenie': 0.29, 'Dzielarka': 0.0, 'Tabula': 0.7, 'Rogalikarka': 0.0, 'Nadziewarka': 0.0, 'Garownia': 1.0, 'Piec': 0.68, 'Pomieszczenie_do_studzenia': 1.8, 'Pakowanie': 0.56},\n",
    "    'Chleb_na_zakwasie': {'Dzieza': 8.6, 'Wazenie': 0.22, 'Dzielarka': 0.0, 'Tabula': 0.6, 'Rogalikarka': 0.0, 'Nadziewarka': 0.0, 'Garownia': 1.4, 'Piec': 1.0, 'Pomieszczenie_do_studzenia': 2.3, 'Pakowanie': 0.6},\n",
    "    'Chleb_domowy_0_9kg': {'Dzieza': 5, 'Wazenie': 0.2, 'Dzielarka': 0.0, 'Tabula': 0.55, 'Rogalikarka': 0.0, 'Nadziewarka': 0.0, 'Garownia': 1.5, 'Piec': 1.2, 'Pomieszczenie_do_studzenia': 2.5, 'Pakowanie': 0.57},\n",
    "    'Bulki': {'Dzieza': 1, 'Wazenie': 0.0, 'Dzielarka': 0.23, 'Tabula': 0.34, 'Rogalikarka': 0.0, 'Nadziewarka': 0.0, 'Garownia': 0.38, 'Piec': 0.25, 'Pomieszczenie_do_studzenia': 0.48, 'Pakowanie': 0.0},\n",
    "    'Bagietki': {'Dzieza': 0.95, 'Wazenie': 0.0, 'Dzielarka': 0.24, 'Tabula': 0.0, 'Rogalikarka': 0.28, 'Nadziewarka': 0.0, 'Garownia': 0.33, 'Piec': 0.23, 'Pomieszczenie_do_studzenia': 0.42, 'Pakowanie': 0.0},\n",
    "    'Rogaliki_z_czekolada': {'Dzieza': 0.55, 'Wazenie': 0.0, 'Dzielarka': 0.28, 'Tabula': 0.0, 'Rogalikarka': 0.31, 'Nadziewarka': 0.4, 'Garownia': 0.25, 'Piec': 0.18, 'Pomieszczenie_do_studzenia': 0.82, 'Pakowanie': 0.42}\n",
    "}\n",
    "\n",
    "# Market limits for sales of Products\n",
    "market_limits = {\n",
    "    \"Chleb_domowy_0_5kg\": {\"Pon\": 200, \"Wt\": 300, \"Sr\": 0, \"Czw\": 200, \"Pt\": 300, \"Sob\": 0},\n",
    "    \"Dzieza\": {\"Pon\": 200, \"Wt\": 300, \"Sr\": 0, \"Czw\": 200, \"Pt\": 300, \"Sob\": 0},\n",
    "    \"Wazenie\": {\"Pon\": 200, \"Wt\": 300, \"Sr\": 0, \"Czw\": 200, \"Pt\": 300, \"Sob\": 0},\n",
    "    \"Tabula\": {\"Pon\": 200, \"Wt\": 300, \"Sr\": 0, \"Czw\": 200, \"Pt\": 300, \"Sob\": 0},\n",
    "    \"Rogalikarka\": {\"Pon\": 200, \"Wt\": 300, \"Sr\": 0, \"Czw\": 200, \"Pt\": 300, \"Sob\": 0},\n",
    "    \"Nadziewarka\": {\"Pon\": 200, \"Wt\": 300, \"Sr\": 0, \"Czw\": 200, \"Pt\": 300, \"Sob\": 0},\n",
    "    \"Garownia\": {\"Pon\": 200, \"Wt\": 300, \"Sr\": 0, \"Czw\": 200, \"Pt\": 300, \"Sob\": 0},\n",
    "    \"Piec\": {\"Pon\": 200, \"Wt\": 300, \"Sr\": 0, \"Czw\": 200, \"Pt\": 300, \"Sob\": 0},\n",
    "    \"Pomieszczenie_do_studzenia\": {\"Pon\": 200, \"Wt\": 300, \"Sr\": 0, \"Czw\": 200, \"Pt\": 300, \"Sob\": 0},\n",
    "    \"Pakowanie\": {\"Pon\": 200, \"Wt\": 300, \"Sr\": 0, \"Czw\": 200, \"Pt\": 300, \"Sob\": 0},\n",
    "}\n",
    "\n",
    "# Machines available\n",
    "machines = {\"Dzieza\": 4, \"Wazenie\": 2, \"Dzielarka\": 3, \"Tabula\": 1, \"Rogalikarka\": 1, \"Nadziewarka\": 1, \"Garownia\": 1, \"Piec\": 2, \"Pomieszczenie_do_studzenia\": 1, \"Pakowanie\": 1}\n",
    "\n",
    "# Variables for production, sales, and storage of products each day\n",
    "production_vars = pl.LpVariable.dicts(\"Production\", ((product, day) for product in products for day in days), lowBound=0, cat='Integer')\n",
    "sales_vars = pl.LpVariable.dicts(\"Sales\", ((product, day) for product in products for day in days), lowBound=0, cat='Integer')\n",
    "storage_vars = pl.LpVariable.dicts(\"Storage\", ((product, day) for product in products for day in days), lowBound=0, upBound=storage_capacity, cat='Integer')\n",
    "\n",
    "# Constrain for P4 sales based on P1 and P2 sales\n",
    "# for day in days:\n",
    "#   model += sales_vars['P4', day] >= sales_vars['P1', day] + sales_vars['P2', day]\n",
    "\n",
    "# Inventory and sales constraints\n",
    "for product in products:\n",
    "    model += storage_vars[product, 'Pon'] == initial_stock + production_vars[product, 'Pon'] - sales_vars[product, 'Pon']  # for Pon\n",
    "    for i in range(1, len(days)):\n",
    "        day = days[i]\n",
    "        prev_day = days[i-1]\n",
    "        model += storage_vars[product, day] == storage_vars[product, prev_day] + production_vars[product, day] - sales_vars[product, day]  # for rest of the days\n",
    "    model += storage_vars[product, 'Sob'] == end_stock  # Ending stock\n",
    "\n",
    "# Machine time constraints for each product and day\n",
    "for day in days:\n",
    "    total_production_time = sum(production_vars[product, day] * production_times[product][machine]\n",
    "                                for product in products\n",
    "                                for machine in machines)\n",
    "    model += total_production_time <= hours_per_day, f\"Global_production_time_{day}\"\n",
    "\n",
    "# Market sales constraints\n",
    "for product in products:\n",
    "    for day in days:\n",
    "        model += sales_vars[product, day] <= market_limits[product][day], f\"Max_sales_{product}_{day}\"\n",
    "        model += sales_vars[product, day] <= production_vars[product, day] + (storage_vars[product, days[days.index(day) - 1]] if day != 'Jan' else initial_stock)\n",
    "\n",
    "\n",
    "# Objective function: Maximize profit from sales minus storage costs\n",
    "model += pl.lpSum([sales_vars[product, day] * product_income[product] - storage_vars[product, day] * storage_cost_per_unit_per_day\n",
    "                   for product in products for day in days]), \"Total_Profit\"\n",
    "\n",
    "# Solve the model\n",
    "model.solve()\n",
    "\n",
    "# Check the status of the solution and print the results\n",
    "print(\"Status:\", pl.LpStatus[model.status])\n",
    "if pl.LpStatus[model.status] == 'Optimal':\n",
    "    print(\"Total Profit:\", pl.value(model.objective))\n",
    "\n",
    "    # Printing headers\n",
    "    print(f\"{'Product':<10} {'day':<10} {'Production':<12} {'Sales':<10} {'Storage':<10}\")\n",
    "\n",
    "    # Display the results in tabular form\n",
    "    for product in products:\n",
    "        for day in days:\n",
    "            production = production_vars[product, day].varValue\n",
    "            sales = sales_vars[product, day].varValue\n",
    "            storage = storage_vars[product, month].varValue\n",
    "            print(f\"{product:<10} {month:<10} {production:<12} {sales:<10} {storage:<10}\")\n",
    "\n",
    "    print(\"\\nProduction Time Usage per Product and Month:\")\n",
    "    for month in days:\n",
    "        print(f\"\\nMonth: {month}\")\n",
    "        for product in products:\n",
    "            total_production_time = sum(\n",
    "                production_vars[product, month].varValue * production_times[product].get(machine, 0)\n",
    "                for machine in machines.keys()\n",
    "            )\n",
    "            print(f\"  Product: {product}, Total Production Time: {total_production_time} hours\")\n",
    "\n",
    "else:\n",
    "    print(\"No optimal solution was found.\")"
   ]
  }
 ],
 "metadata": {
  "colab": {
   "provenance": []
  },
  "kernelspec": {
   "display_name": "base",
   "language": "python",
   "name": "python3"
  },
  "language_info": {
   "codemirror_mode": {
    "name": "ipython",
    "version": 3
   },
   "file_extension": ".py",
   "mimetype": "text/x-python",
   "name": "python",
   "nbconvert_exporter": "python",
   "pygments_lexer": "ipython3",
   "version": "3.12.7"
  }
 },
 "nbformat": 4,
 "nbformat_minor": 0
}
